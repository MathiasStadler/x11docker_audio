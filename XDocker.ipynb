{
 "cells": [
  {
   "cell_type": "code",
   "execution_count": null,
   "metadata": {
    "vscode": {
     "languageId": "shellscript"
    }
   },
   "outputs": [],
   "source": [
    "# https://thenewstack.io/run-gui-applications-as-containers-with-x11docker/"
   ]
  },
  {
   "cell_type": "markdown",
   "metadata": {},
   "source": [
    "# [FROM HERE](https://copyprogramming.com/howto/how-to-set-alsa-default-device-to-pulseaudio-sound-server-on-docker?utm_content=cmp-true)"
   ]
  },
  {
   "cell_type": "markdown",
   "metadata": {},
   "source": [
    "# first test on server (ubuntu Ubuntu 22.04.3 LTS)"
   ]
  },
  {
   "cell_type": "code",
   "execution_count": null,
   "metadata": {
    "vscode": {
     "languageId": "shellscript"
    }
   },
   "outputs": [],
   "source": [
    "aplay /usr/share/sounds/alsa/Front_Center.wav # alsa\n",
    "paplay /usr/share/sounds/alsa/Front_Center.wav # pulseaudio\n",
    "pw-play /usr/share/sounds/alsa/Front_Center.wav # pipewire"
   ]
  },
  {
   "cell_type": "markdown",
   "metadata": {},
   "source": [
    "speaker test"
   ]
  },
  {
   "cell_type": "code",
   "execution_count": null,
   "metadata": {
    "vscode": {
     "languageId": "shellscript"
    }
   },
   "outputs": [],
   "source": [
    " speaker-test -c 2 -D default\n",
    " speaker-test -c 2 -D pulse"
   ]
  },
  {
   "cell_type": "markdown",
   "metadata": {},
   "source": [
    "# test sound inside docker container"
   ]
  },
  {
   "cell_type": "code",
   "execution_count": null,
   "metadata": {
    "vscode": {
     "languageId": "shellscript"
    }
   },
   "outputs": [],
   "source": [
    "sudo docker run -it \\\n",
    "    --device /dev/snd \\\n",
    "    -e PULSE_SERVER=unix:${XDG_RUNTIME_DIR}/pulse/native \\\n",
    "    -v ${XDG_RUNTIME_DIR}/pulse/native:${XDG_RUNTIME_DIR}/pulse/native \\\n",
    "    -v ~/.config/pulse/cookie:/root/.config/pulse/cookie \\\n",
    "    --group-add $(getent group audio | cut -d: -f3) \\\n",
    "    ubuntu:23.10 /bin/bash"
   ]
  },
  {
   "cell_type": "markdown",
   "metadata": {},
   "source": [
    "# install lib for alsa pulseaudio pipewire"
   ]
  },
  {
   "cell_type": "code",
   "execution_count": null,
   "metadata": {
    "vscode": {
     "languageId": "shellscript"
    }
   },
   "outputs": [],
   "source": [
    "apt update &&\n",
    "apt install alsa-base alsa-utils pulseaudio pulseaudio-utils pipewire -y"
   ]
  },
  {
   "cell_type": "markdown",
   "metadata": {},
   "source": [
    "# test sound\n"
   ]
  },
  {
   "cell_type": "code",
   "execution_count": null,
   "metadata": {
    "vscode": {
     "languageId": "shellscript"
    }
   },
   "outputs": [],
   "source": [
    "aplay /usr/share/sounds/alsa/Front_Center.wav\n",
    "paplay /usr/share/sounds/alsa/Front_Center.wav"
   ]
  },
  {
   "cell_type": "markdown",
   "metadata": {},
   "source": [
    "# dbus\n"
   ]
  },
  {
   "cell_type": "code",
   "execution_count": null,
   "metadata": {
    "vscode": {
     "languageId": "shellscript"
    }
   },
   "outputs": [],
   "source": [
    "systemctl --user status pipewire pipewire-pulse wireplumber pulseaudio"
   ]
  }
 ],
 "metadata": {
  "kernelspec": {
   "display_name": "Bash",
   "language": "bash",
   "name": "bash"
  },
  "language_info": {
   "name": "bash"
  }
 },
 "nbformat": 4,
 "nbformat_minor": 2
}
